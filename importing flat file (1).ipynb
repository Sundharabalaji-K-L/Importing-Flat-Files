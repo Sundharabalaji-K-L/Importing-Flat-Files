{
  "cells":[
    {
      "cell_type":"code",
      "source":[
        "file=open('moby_dicks.txt','r')\n",
        "print(file.read())\n",
        "print(\"\\nBefore closing the file\")\n",
        "print(file.closed)\n",
        "file.close()\n",
        "print(\"\\nAfter closing the file\")\n",
        "print(file.closed)"
      ],
      "execution_count":2,
      "outputs":[
        {
          "name":"stdout",
          "text":[
            "CHAPTER 1. Loomings.\n",
            "\n",
            "Call me Ishmael. Some years ago--never mind how long precisely--having\n",
            "little or no money in my purse, and nothing particular to interest me on\n",
            "shore, I thought I would sail about a little and see the watery part of\n",
            "the world. It is a way I have of driving off the spleen and regulating\n",
            "the circulation. Whenever I find myself growing grim about the mouth;\n",
            "whenever it is a damp, drizzly November in my soul; whenever I find\n",
            "myself involuntarily pausing before coffin warehouses, and bringing up\n",
            "the rear of every funeral I meet; and especially whenever my hypos get\n",
            "such an upper hand of me, that it requires a strong moral principle to\n",
            "prevent me from deliberately stepping into the street, and methodically\n",
            "knocking people's hats off--then, I account it high time to get to sea\n",
            "as soon as I can. This is my substitute for pistol and ball. With a\n",
            "philosophical flourish Cato throws himself upon his sword; I quietly\n",
            "take to the ship. There is nothing surprising in this. If they but knew\n",
            "it, almost all men in their degree, some time or other, cherish very\n",
            "nearly the same feelings towards the ocean with me.\n",
            "\n",
            "Before closing the file\n",
            "False\n",
            "\n",
            "After closing the file\n",
            "True\n"
          ],
          "output_type":"stream"
        }
      ],
      "metadata":{
        
      }
    },
    {
      "cell_type":"code",
      "source":[
        "with open('moby_dicks.txt','r') as file:\n",
        "    print(file.read())"
      ],
      "execution_count":3,
      "outputs":[
        {
          "name":"stdout",
          "text":[
            "CHAPTER 1. Loomings.\n",
            "\n",
            "Call me Ishmael. Some years ago--never mind how long precisely--having\n",
            "little or no money in my purse, and nothing particular to interest me on\n",
            "shore, I thought I would sail about a little and see the watery part of\n",
            "the world. It is a way I have of driving off the spleen and regulating\n",
            "the circulation. Whenever I find myself growing grim about the mouth;\n",
            "whenever it is a damp, drizzly November in my soul; whenever I find\n",
            "myself involuntarily pausing before coffin warehouses, and bringing up\n",
            "the rear of every funeral I meet; and especially whenever my hypos get\n",
            "such an upper hand of me, that it requires a strong moral principle to\n",
            "prevent me from deliberately stepping into the street, and methodically\n",
            "knocking people's hats off--then, I account it high time to get to sea\n",
            "as soon as I can. This is my substitute for pistol and ball. With a\n",
            "philosophical flourish Cato throws himself upon his sword; I quietly\n",
            "take to the ship. There is nothing surprising in this. If they but knew\n",
            "it, almost all men in their degree, some time or other, cherish very\n",
            "nearly the same feelings towards the ocean with me.\n"
          ],
          "output_type":"stream"
        }
      ],
      "metadata":{
        
      }
    },
    {
      "cell_type":"code",
      "source":[
        "with open('moby_dicks.txt','r') as file:\n",
        "    print(file.readline())\n",
        "    print(file.readline())\n",
        "    print(file.readline())\n",
        "    print(file.readline())\n"
      ],
      "execution_count":4,
      "outputs":[
        {
          "name":"stdout",
          "text":[
            "CHAPTER 1. Loomings.\n",
            "\n",
            "\n",
            "\n",
            "Call me Ishmael. Some years ago--never mind how long precisely--having\n",
            "\n",
            "little or no money in my purse, and nothing particular to interest me on\n",
            "\n"
          ],
          "output_type":"stream"
        }
      ],
      "metadata":{
        
      }
    },
    {
      "cell_type":"markdown",
      "source":[
        "# **using numpy to import flat files**"
      ],
      "attachments":{
        
      },
      "metadata":{
        
      }
    },
    {
      "cell_type":"code",
      "source":[
        "import numpy as np\n",
        "import matplotlib.pyplot as plt"
      ],
      "execution_count":5,
      "outputs":[
        
      ],
      "metadata":{
        
      }
    },
    {
      "cell_type":"code",
      "source":[
        "file_name='digits.csv'\n",
        "digits=np.loadtxt(file_name,delimiter=',')\n",
        "print(type(digits))\n",
        "print(digits.shape)"
      ],
      "execution_count":6,
      "outputs":[
        {
          "name":"stdout",
          "text":[
            "<class 'numpy.ndarray'>\n",
            "(100, 785)\n"
          ],
          "output_type":"stream"
        }
      ],
      "metadata":{
        
      }
    },
    {
      "cell_type":"code",
      "source":[
        "im=digits[21,1:]\n",
        "im_sq=np.reshape(im,(28,28))\n",
        "print(im.shape)\n",
        "print(im_sq.shape)\n"
      ],
      "execution_count":7,
      "outputs":[
        {
          "name":"stdout",
          "text":[
            "(784,)\n",
            "(28, 28)\n"
          ],
          "output_type":"stream"
        }
      ],
      "metadata":{
        
      }
    },
    {
      "cell_type":"code",
      "source":[
        "import matplotlib.pyplot as plt\n",
        "plt.imshow(im_sq,cmap='Greys',interpolation='nearest')\n",
        "plt.show()"
      ],
      "execution_count":8,
      "outputs":[
        {
          "data":{
            "image\/png":"[encoded data removed]"
          },
          "metadata":{
            "image\/png":{
              
            }
          },
          "output_type":"display_data"
        }
      ],
      "metadata":{
        
      }
    },
    {
      "cell_type":"code",
      "source":[
        "im2=digits[8,1:]\n",
        "im2_sq=np.reshape(im2,(28,28))\n",
        "print(im2.shape)\n",
        "print(im2_sq.shape)"
      ],
      "execution_count":9,
      "outputs":[
        {
          "name":"stdout",
          "text":[
            "(784,)\n",
            "(28, 28)\n"
          ],
          "output_type":"stream"
        }
      ],
      "metadata":{
        
      }
    },
    {
      "cell_type":"code",
      "source":[
        "plt.imshow(im2_sq,cmap='Greys')"
      ],
      "execution_count":10,
      "outputs":[
        {
          "data":{
            "text\/plain":[
              "<matplotlib.image.AxesImage at 0x7f5c265022b0>"
            ],
            "image\/png":"[encoded data removed]"
          },
          "metadata":{
            "image\/png":{
              
            }
          },
          "output_type":"display_data"
        }
      ],
      "metadata":{
        
      }
    },
    {
      "cell_type":"code",
      "source":[
        "img3=digits[10,1:]\n",
        "print(img3.shape)\n",
        "img3_sq=np.reshape(img3,(28,28))\n",
        "print(img3_sq.shape)"
      ],
      "execution_count":11,
      "outputs":[
        {
          "name":"stdout",
          "text":[
            "(784,)\n",
            "(28, 28)\n"
          ],
          "output_type":"stream"
        }
      ],
      "metadata":{
        
      }
    },
    {
      "cell_type":"code",
      "source":[
        "plt.imshow(img3_sq,cmap='Greys',interpolation=\"nearest\")\n",
        "plt.show()\n",
        "\n"
      ],
      "execution_count":12,
      "outputs":[
        {
          "data":{
            "image\/png":"[encoded data removed]"
          },
          "metadata":{
            "image\/png":{
              
            }
          },
          "output_type":"display_data"
        }
      ],
      "metadata":{
        
      }
    },
    {
      "cell_type":"code",
      "source":[
        "file='digit_header.txt'\n",
        "data=np.loadtxt(file,delimiter='\\t',skiprows=1,usecols=[0,2])"
      ],
      "execution_count":13,
      "outputs":[
        
      ],
      "metadata":{
        
      }
    },
    {
      "cell_type":"code",
      "source":[
        "print(data)\n",
        "print('\\n')\n",
        "print(data.shape)"
      ],
      "execution_count":14,
      "outputs":[
        {
          "name":"stdout",
          "text":[
            "[[1. 0.]\n",
            " [0. 0.]\n",
            " [1. 0.]\n",
            " [4. 0.]\n",
            " [0. 0.]\n",
            " [0. 0.]\n",
            " [7. 0.]\n",
            " [3. 0.]\n",
            " [5. 0.]\n",
            " [3. 0.]\n",
            " [8. 0.]\n",
            " [9. 0.]\n",
            " [1. 0.]\n",
            " [3. 0.]\n",
            " [3. 0.]\n",
            " [1. 0.]\n",
            " [2. 0.]\n",
            " [0. 0.]\n",
            " [7. 0.]\n",
            " [5. 0.]\n",
            " [8. 0.]\n",
            " [6. 0.]\n",
            " [2. 0.]\n",
            " [0. 0.]\n",
            " [2. 0.]\n",
            " [3. 0.]\n",
            " [6. 0.]\n",
            " [9. 0.]\n",
            " [9. 0.]\n",
            " [7. 0.]\n",
            " [8. 0.]\n",
            " [9. 0.]\n",
            " [4. 0.]\n",
            " [9. 0.]\n",
            " [2. 0.]\n",
            " [1. 0.]\n",
            " [3. 0.]\n",
            " [1. 0.]\n",
            " [1. 0.]\n",
            " [4. 0.]\n",
            " [9. 0.]\n",
            " [1. 0.]\n",
            " [4. 0.]\n",
            " [4. 0.]\n",
            " [2. 0.]\n",
            " [6. 0.]\n",
            " [3. 0.]\n",
            " [7. 0.]\n",
            " [7. 0.]\n",
            " [4. 0.]\n",
            " [7. 0.]\n",
            " [5. 0.]\n",
            " [1. 0.]\n",
            " [9. 0.]\n",
            " [0. 0.]\n",
            " [2. 0.]\n",
            " [2. 0.]\n",
            " [3. 0.]\n",
            " [9. 0.]\n",
            " [1. 0.]\n",
            " [1. 0.]\n",
            " [1. 0.]\n",
            " [5. 0.]\n",
            " [0. 0.]\n",
            " [6. 0.]\n",
            " [3. 0.]\n",
            " [4. 0.]\n",
            " [8. 0.]\n",
            " [1. 0.]\n",
            " [0. 0.]\n",
            " [3. 0.]\n",
            " [9. 0.]\n",
            " [6. 0.]\n",
            " [2. 0.]\n",
            " [6. 0.]\n",
            " [4. 0.]\n",
            " [7. 0.]\n",
            " [1. 0.]\n",
            " [4. 0.]\n",
            " [1. 0.]\n",
            " [5. 0.]\n",
            " [4. 0.]\n",
            " [8. 0.]\n",
            " [9. 0.]\n",
            " [2. 0.]\n",
            " [9. 0.]\n",
            " [9. 0.]\n",
            " [8. 0.]\n",
            " [9. 0.]\n",
            " [6. 0.]\n",
            " [3. 0.]\n",
            " [6. 0.]\n",
            " [4. 0.]\n",
            " [6. 0.]\n",
            " [2. 0.]\n",
            " [9. 0.]\n",
            " [1. 0.]\n",
            " [2. 0.]\n",
            " [0. 0.]\n",
            " [5. 0.]]\n",
            "\n",
            "\n",
            "(100, 2)\n"
          ],
          "output_type":"stream"
        }
      ],
      "metadata":{
        
      }
    },
    {
      "cell_type":"code",
      "source":[
        "file_name='seaslug.txt'\n",
        "data=np.loadtxt(file,delimiter='\\t',dtype=str)\n",
        "print(data.shape)\n",
        "print()\n",
        "print(data[0].shape)\n",
        "print(data[0])"
      ],
      "execution_count":15,
      "outputs":[
        {
          "name":"stdout",
          "text":[
            "(101, 785)\n",
            "\n",
            "(785,)\n",
            "['label' 'pixel0' 'pixel1' 'pixel2' 'pixel3' 'pixel4' 'pixel5' 'pixel6'\n",
            " 'pixel7' 'pixel8' 'pixel9' 'pixel10' 'pixel11' 'pixel12' 'pixel13'\n",
            " 'pixel14' 'pixel15' 'pixel16' 'pixel17' 'pixel18' 'pixel19' 'pixel20'\n",
            " 'pixel21' 'pixel22' 'pixel23' 'pixel24' 'pixel25' 'pixel26' 'pixel27'\n",
            " 'pixel28' 'pixel29' 'pixel30' 'pixel31' 'pixel32' 'pixel33' 'pixel34'\n",
            " 'pixel35' 'pixel36' 'pixel37' 'pixel38' 'pixel39' 'pixel40' 'pixel41'\n",
            " 'pixel42' 'pixel43' 'pixel44' 'pixel45' 'pixel46' 'pixel47' 'pixel48'\n",
            " 'pixel49' 'pixel50' 'pixel51' 'pixel52' 'pixel53' 'pixel54' 'pixel55'\n",
            " 'pixel56' 'pixel57' 'pixel58' 'pixel59' 'pixel60' 'pixel61' 'pixel62'\n",
            " 'pixel63' 'pixel64' 'pixel65' 'pixel66' 'pixel67' 'pixel68' 'pixel69'\n",
            " 'pixel70' 'pixel71' 'pixel72' 'pixel73' 'pixel74' 'pixel75' 'pixel76'\n",
            " 'pixel77' 'pixel78' 'pixel79' 'pixel80' 'pixel81' 'pixel82' 'pixel83'\n",
            " 'pixel84' 'pixel85' 'pixel86' 'pixel87' 'pixel88' 'pixel89' 'pixel90'\n",
            " 'pixel91' 'pixel92' 'pixel93' 'pixel94' 'pixel95' 'pixel96' 'pixel97'\n",
            " 'pixel98' 'pixel99' 'pixel100' 'pixel101' 'pixel102' 'pixel103'\n",
            " 'pixel104' 'pixel105' 'pixel106' 'pixel107' 'pixel108' 'pixel109'\n",
            " 'pixel110' 'pixel111' 'pixel112' 'pixel113' 'pixel114' 'pixel115'\n",
            " 'pixel116' 'pixel117' 'pixel118' 'pixel119' 'pixel120' 'pixel121'\n",
            " 'pixel122' 'pixel123' 'pixel124' 'pixel125' 'pixel126' 'pixel127'\n",
            " 'pixel128' 'pixel129' 'pixel130' 'pixel131' 'pixel132' 'pixel133'\n",
            " 'pixel134' 'pixel135' 'pixel136' 'pixel137' 'pixel138' 'pixel139'\n",
            " 'pixel140' 'pixel141' 'pixel142' 'pixel143' 'pixel144' 'pixel145'\n",
            " 'pixel146' 'pixel147' 'pixel148' 'pixel149' 'pixel150' 'pixel151'\n",
            " 'pixel152' 'pixel153' 'pixel154' 'pixel155' 'pixel156' 'pixel157'\n",
            " 'pixel158' 'pixel159' 'pixel160' 'pixel161' 'pixel162' 'pixel163'\n",
            " 'pixel164' 'pixel165' 'pixel166' 'pixel167' 'pixel168' 'pixel169'\n",
            " 'pixel170' 'pixel171' 'pixel172' 'pixel173' 'pixel174' 'pixel175'\n",
            " 'pixel176' 'pixel177' 'pixel178' 'pixel179' 'pixel180' 'pixel181'\n",
            " 'pixel182' 'pixel183' 'pixel184' 'pixel185' 'pixel186' 'pixel187'\n",
            " 'pixel188' 'pixel189' 'pixel190' 'pixel191' 'pixel192' 'pixel193'\n",
            " 'pixel194' 'pixel195' 'pixel196' 'pixel197' 'pixel198' 'pixel199'\n",
            " 'pixel200' 'pixel201' 'pixel202' 'pixel203' 'pixel204' 'pixel205'\n",
            " 'pixel206' 'pixel207' 'pixel208' 'pixel209' 'pixel210' 'pixel211'\n",
            " 'pixel212' 'pixel213' 'pixel214' 'pixel215' 'pixel216' 'pixel217'\n",
            " 'pixel218' 'pixel219' 'pixel220' 'pixel221' 'pixel222' 'pixel223'\n",
            " 'pixel224' 'pixel225' 'pixel226' 'pixel227' 'pixel228' 'pixel229'\n",
            " 'pixel230' 'pixel231' 'pixel232' 'pixel233' 'pixel234' 'pixel235'\n",
            " 'pixel236' 'pixel237' 'pixel238' 'pixel239' 'pixel240' 'pixel241'\n",
            " 'pixel242' 'pixel243' 'pixel244' 'pixel245' 'pixel246' 'pixel247'\n",
            " 'pixel248' 'pixel249' 'pixel250' 'pixel251' 'pixel252' 'pixel253'\n",
            " 'pixel254' 'pixel255' 'pixel256' 'pixel257' 'pixel258' 'pixel259'\n",
            " 'pixel260' 'pixel261' 'pixel262' 'pixel263' 'pixel264' 'pixel265'\n",
            " 'pixel266' 'pixel267' 'pixel268' 'pixel269' 'pixel270' 'pixel271'\n",
            " 'pixel272' 'pixel273' 'pixel274' 'pixel275' 'pixel276' 'pixel277'\n",
            " 'pixel278' 'pixel279' 'pixel280' 'pixel281' 'pixel282' 'pixel283'\n",
            " 'pixel284' 'pixel285' 'pixel286' 'pixel287' 'pixel288' 'pixel289'\n",
            " 'pixel290' 'pixel291' 'pixel292' 'pixel293' 'pixel294' 'pixel295'\n",
            " 'pixel296' 'pixel297' 'pixel298' 'pixel299' 'pixel300' 'pixel301'\n",
            " 'pixel302' 'pixel303' 'pixel304' 'pixel305' 'pixel306' 'pixel307'\n",
            " 'pixel308' 'pixel309' 'pixel310' 'pixel311' 'pixel312' 'pixel313'\n",
            " 'pixel314' 'pixel315' 'pixel316' 'pixel317' 'pixel318' 'pixel319'\n",
            " 'pixel320' 'pixel321' 'pixel322' 'pixel323' 'pixel324' 'pixel325'\n",
            " 'pixel326' 'pixel327' 'pixel328' 'pixel329' 'pixel330' 'pixel331'\n",
            " 'pixel332' 'pixel333' 'pixel334' 'pixel335' 'pixel336' 'pixel337'\n",
            " 'pixel338' 'pixel339' 'pixel340' 'pixel341' 'pixel342' 'pixel343'\n",
            " 'pixel344' 'pixel345' 'pixel346' 'pixel347' 'pixel348' 'pixel349'\n",
            " 'pixel350' 'pixel351' 'pixel352' 'pixel353' 'pixel354' 'pixel355'\n",
            " 'pixel356' 'pixel357' 'pixel358' 'pixel359' 'pixel360' 'pixel361'\n",
            " 'pixel362' 'pixel363' 'pixel364' 'pixel365' 'pixel366' 'pixel367'\n",
            " 'pixel368' 'pixel369' 'pixel370' 'pixel371' 'pixel372' 'pixel373'\n",
            " 'pixel374' 'pixel375' 'pixel376' 'pixel377' 'pixel378' 'pixel379'\n",
            " 'pixel380' 'pixel381' 'pixel382' 'pixel383' 'pixel384' 'pixel385'\n",
            " 'pixel386' 'pixel387' 'pixel388' 'pixel389' 'pixel390' 'pixel391'\n",
            " 'pixel392' 'pixel393' 'pixel394' 'pixel395' 'pixel396' 'pixel397'\n",
            " 'pixel398' 'pixel399' 'pixel400' 'pixel401' 'pixel402' 'pixel403'\n",
            " 'pixel404' 'pixel405' 'pixel406' 'pixel407' 'pixel408' 'pixel409'\n",
            " 'pixel410' 'pixel411' 'pixel412' 'pixel413' 'pixel414' 'pixel415'\n",
            " 'pixel416' 'pixel417' 'pixel418' 'pixel419' 'pixel420' 'pixel421'\n",
            " 'pixel422' 'pixel423' 'pixel424' 'pixel425' 'pixel426' 'pixel427'\n",
            " 'pixel428' 'pixel429' 'pixel430' 'pixel431' 'pixel432' 'pixel433'\n",
            " 'pixel434' 'pixel435' 'pixel436' 'pixel437' 'pixel438' 'pixel439'\n",
            " 'pixel440' 'pixel441' 'pixel442' 'pixel443' 'pixel444' 'pixel445'\n",
            " 'pixel446' 'pixel447' 'pixel448' 'pixel449' 'pixel450' 'pixel451'\n",
            " 'pixel452' 'pixel453' 'pixel454' 'pixel455' 'pixel456' 'pixel457'\n",
            " 'pixel458' 'pixel459' 'pixel460' 'pixel461' 'pixel462' 'pixel463'\n",
            " 'pixel464' 'pixel465' 'pixel466' 'pixel467' 'pixel468' 'pixel469'\n",
            " 'pixel470' 'pixel471' 'pixel472' 'pixel473' 'pixel474' 'pixel475'\n",
            " 'pixel476' 'pixel477' 'pixel478' 'pixel479' 'pixel480' 'pixel481'\n",
            " 'pixel482' 'pixel483' 'pixel484' 'pixel485' 'pixel486' 'pixel487'\n",
            " 'pixel488' 'pixel489' 'pixel490' 'pixel491' 'pixel492' 'pixel493'\n",
            " 'pixel494' 'pixel495' 'pixel496' 'pixel497' 'pixel498' 'pixel499'\n",
            " 'pixel500' 'pixel501' 'pixel502' 'pixel503' 'pixel504' 'pixel505'\n",
            " 'pixel506' 'pixel507' 'pixel508' 'pixel509' 'pixel510' 'pixel511'\n",
            " 'pixel512' 'pixel513' 'pixel514' 'pixel515' 'pixel516' 'pixel517'\n",
            " 'pixel518' 'pixel519' 'pixel520' 'pixel521' 'pixel522' 'pixel523'\n",
            " 'pixel524' 'pixel525' 'pixel526' 'pixel527' 'pixel528' 'pixel529'\n",
            " 'pixel530' 'pixel531' 'pixel532' 'pixel533' 'pixel534' 'pixel535'\n",
            " 'pixel536' 'pixel537' 'pixel538' 'pixel539' 'pixel540' 'pixel541'\n",
            " 'pixel542' 'pixel543' 'pixel544' 'pixel545' 'pixel546' 'pixel547'\n",
            " 'pixel548' 'pixel549' 'pixel550' 'pixel551' 'pixel552' 'pixel553'\n",
            " 'pixel554' 'pixel555' 'pixel556' 'pixel557' 'pixel558' 'pixel559'\n",
            " 'pixel560' 'pixel561' 'pixel562' 'pixel563' 'pixel564' 'pixel565'\n",
            " 'pixel566' 'pixel567' 'pixel568' 'pixel569' 'pixel570' 'pixel571'\n",
            " 'pixel572' 'pixel573' 'pixel574' 'pixel575' 'pixel576' 'pixel577'\n",
            " 'pixel578' 'pixel579' 'pixel580' 'pixel581' 'pixel582' 'pixel583'\n",
            " 'pixel584' 'pixel585' 'pixel586' 'pixel587' 'pixel588' 'pixel589'\n",
            " 'pixel590' 'pixel591' 'pixel592' 'pixel593' 'pixel594' 'pixel595'\n",
            " 'pixel596' 'pixel597' 'pixel598' 'pixel599' 'pixel600' 'pixel601'\n",
            " 'pixel602' 'pixel603' 'pixel604' 'pixel605' 'pixel606' 'pixel607'\n",
            " 'pixel608' 'pixel609' 'pixel610' 'pixel611' 'pixel612' 'pixel613'\n",
            " 'pixel614' 'pixel615' 'pixel616' 'pixel617' 'pixel618' 'pixel619'\n",
            " 'pixel620' 'pixel621' 'pixel622' 'pixel623' 'pixel624' 'pixel625'\n",
            " 'pixel626' 'pixel627' 'pixel628' 'pixel629' 'pixel630' 'pixel631'\n",
            " 'pixel632' 'pixel633' 'pixel634' 'pixel635' 'pixel636' 'pixel637'\n",
            " 'pixel638' 'pixel639' 'pixel640' 'pixel641' 'pixel642' 'pixel643'\n",
            " 'pixel644' 'pixel645' 'pixel646' 'pixel647' 'pixel648' 'pixel649'\n",
            " 'pixel650' 'pixel651' 'pixel652' 'pixel653' 'pixel654' 'pixel655'\n",
            " 'pixel656' 'pixel657' 'pixel658' 'pixel659' 'pixel660' 'pixel661'\n",
            " 'pixel662' 'pixel663' 'pixel664' 'pixel665' 'pixel666' 'pixel667'\n",
            " 'pixel668' 'pixel669' 'pixel670' 'pixel671' 'pixel672' 'pixel673'\n",
            " 'pixel674' 'pixel675' 'pixel676' 'pixel677' 'pixel678' 'pixel679'\n",
            " 'pixel680' 'pixel681' 'pixel682' 'pixel683' 'pixel684' 'pixel685'\n",
            " 'pixel686' 'pixel687' 'pixel688' 'pixel689' 'pixel690' 'pixel691'\n",
            " 'pixel692' 'pixel693' 'pixel694' 'pixel695' 'pixel696' 'pixel697'\n",
            " 'pixel698' 'pixel699' 'pixel700' 'pixel701' 'pixel702' 'pixel703'\n",
            " 'pixel704' 'pixel705' 'pixel706' 'pixel707' 'pixel708' 'pixel709'\n",
            " 'pixel710' 'pixel711' 'pixel712' 'pixel713' 'pixel714' 'pixel715'\n",
            " 'pixel716' 'pixel717' 'pixel718' 'pixel719' 'pixel720' 'pixel721'\n",
            " 'pixel722' 'pixel723' 'pixel724' 'pixel725' 'pixel726' 'pixel727'\n",
            " 'pixel728' 'pixel729' 'pixel730' 'pixel731' 'pixel732' 'pixel733'\n",
            " 'pixel734' 'pixel735' 'pixel736' 'pixel737' 'pixel738' 'pixel739'\n",
            " 'pixel740' 'pixel741' 'pixel742' 'pixel743' 'pixel744' 'pixel745'\n",
            " 'pixel746' 'pixel747' 'pixel748' 'pixel749' 'pixel750' 'pixel751'\n",
            " 'pixel752' 'pixel753' 'pixel754' 'pixel755' 'pixel756' 'pixel757'\n",
            " 'pixel758' 'pixel759' 'pixel760' 'pixel761' 'pixel762' 'pixel763'\n",
            " 'pixel764' 'pixel765' 'pixel766' 'pixel767' 'pixel768' 'pixel769'\n",
            " 'pixel770' 'pixel771' 'pixel772' 'pixel773' 'pixel774' 'pixel775'\n",
            " 'pixel776' 'pixel777' 'pixel778' 'pixel779' 'pixel780' 'pixel781'\n",
            " 'pixel782' 'pixel783']\n"
          ],
          "output_type":"stream"
        }
      ],
      "metadata":{
        
      }
    },
    {
      "cell_type":"code",
      "source":[
        "data_float=np.loadtxt(file_name,delimiter='\\t',skiprows=1,dtype=float)\n",
        "print(data_float[9])"
      ],
      "execution_count":16,
      "outputs":[
        {
          "name":"stdout",
          "text":[
            "[0.    0.357]\n"
          ],
          "output_type":"stream"
        }
      ],
      "metadata":{
        
      }
    },
    {
      "cell_type":"code",
      "source":[
        "plt.scatter(data_float[:,0],data_float[:,1])\n",
        "plt.xlabel('time(min.)')\n",
        "plt.ylabel('percentage of larve')\n",
        "plt.show()"
      ],
      "execution_count":17,
      "outputs":[
        {
          "data":{
            "image\/png":"[encoded data removed]"
          },
          "metadata":{
            "image\/png":{
              
            }
          },
          "output_type":"display_data"
        }
      ],
      "metadata":{
        
      }
    },
    {
      "cell_type":"code",
      "source":[
        "data=np.genfromtxt('titanic.csv',delimiter='\\t',names=True,dtype=None)"
      ],
      "execution_count":18,
      "outputs":[
        {
          "name":"stderr",
          "text":[
            "<ipython-input-18-941ad1a6f50b>:1: VisibleDeprecationWarning: Reading unicode strings without specifying the encoding argument is deprecated. Set the encoding, use None for the system default.\n",
            "  data=np.genfromtxt('titanic.csv',delimiter='\\t',names=True,dtype=None)\n"
          ],
          "output_type":"stream"
        }
      ],
      "metadata":{
        
      }
    },
    {
      "cell_type":"code",
      "source":[
        "print(data.shape)\n",
        "print(data[:3])"
      ],
      "execution_count":19,
      "outputs":[
        {
          "name":"stdout",
          "text":[
            "(891,)\n",
            "[(b'1,0,3,male,22.0,1,0,A\/5 21171,7.25,,S',)\n",
            " (b'2,1,1,female,38.0,1,0,PC 17599,71.2833,C85,C',)\n",
            " (b'3,1,3,female,26.0,0,0,STON\/O2. 3101282,7.925,,S',)]\n"
          ],
          "output_type":"stream"
        }
      ],
      "metadata":{
        
      }
    },
    {
      "cell_type":"code",
      "source":[
        "print(data['Survived'])"
      ],
      "execution_count":20,
      "outputs":[
        {
          "ename":"ValueError",
          "evalue":"ValueError: no field of name Survived",
          "traceback":[
            "\u001b[0;31m---------------------------------------------------------------------------",
            "Traceback (most recent call last)",
            "    at line 1 in <module>",
            "ValueError: no field of name Survived"
          ],
          "output_type":"error"
        }
      ],
      "metadata":{
        
      }
    },
    {
      "cell_type":"code",
      "source":[
        "data=np.recfromcsv('titanic.csv',delimiter=',',names=True)\n",
        "print(data.shape)"
      ],
      "execution_count":21,
      "outputs":[
        {
          "name":"stdout",
          "text":[
            "(891,)\n"
          ],
          "output_type":"stream"
        },
        {
          "name":"stderr",
          "text":[
            "\/opt\/python\/envs\/default\/lib\/python3.8\/site-packages\/numpy\/lib\/npyio.py:2349: VisibleDeprecationWarning: Reading unicode strings without specifying the encoding argument is deprecated. Set the encoding, use None for the system default.\n",
            "  output = genfromtxt(fname, **kwargs)\n"
          ],
          "output_type":"stream"
        }
      ],
      "metadata":{
        
      }
    },
    {
      "cell_type":"code",
      "source":[
        "print(data.shape)\n",
        "print(data[:3])"
      ],
      "execution_count":22,
      "outputs":[
        {
          "name":"stdout",
          "text":[
            "(891,)\n",
            "[(1, 0, 3, b'male', 22., 1, 0, b'A\/5 21171',  7.25  , b'', b'S')\n",
            " (2, 1, 1, b'female', 38., 1, 0, b'PC 17599', 71.2833, b'C85', b'C')\n",
            " (3, 1, 3, b'female', 26., 0, 0, b'STON\/O2. 3101282',  7.925 , b'', b'S')]\n"
          ],
          "output_type":"stream"
        }
      ],
      "metadata":{
        
      }
    },
    {
      "cell_type":"markdown",
      "source":[
        "# **Using Pandas to import Data**"
      ],
      "attachments":{
        
      },
      "metadata":{
        
      }
    },
    {
      "cell_type":"code",
      "source":[
        "import pandas as pd"
      ],
      "execution_count":23,
      "outputs":[
        
      ],
      "metadata":{
        
      }
    },
    {
      "cell_type":"code",
      "source":[
        "df=pd.read_csv('titanic.csv')\n",
        "df.head()"
      ],
      "execution_count":24,
      "outputs":[
        {
          "data":{
            "text\/html":[
              "<div>\n",
              "<style scoped>\n",
              "    .dataframe tbody tr th:only-of-type {\n",
              "        vertical-align: middle;\n",
              "    }\n",
              "\n",
              "    .dataframe tbody tr th {\n",
              "        vertical-align: top;\n",
              "    }\n",
              "\n",
              "    .dataframe thead th {\n",
              "        text-align: right;\n",
              "    }\n",
              "<\/style>\n",
              "<table border=\"1\" class=\"dataframe\">\n",
              "  <thead>\n",
              "    <tr style=\"text-align: right;\">\n",
              "      <th><\/th>\n",
              "      <th>PassengerId<\/th>\n",
              "      <th>Survived<\/th>\n",
              "      <th>Pclass<\/th>\n",
              "      <th>Sex<\/th>\n",
              "      <th>Age<\/th>\n",
              "      <th>SibSp<\/th>\n",
              "      <th>Parch<\/th>\n",
              "      <th>Ticket<\/th>\n",
              "      <th>Fare<\/th>\n",
              "      <th>Cabin<\/th>\n",
              "      <th>Embarked<\/th>\n",
              "    <\/tr>\n",
              "  <\/thead>\n",
              "  <tbody>\n",
              "    <tr>\n",
              "      <th>0<\/th>\n",
              "      <td>1<\/td>\n",
              "      <td>0<\/td>\n",
              "      <td>3<\/td>\n",
              "      <td>male<\/td>\n",
              "      <td>22.0<\/td>\n",
              "      <td>1<\/td>\n",
              "      <td>0<\/td>\n",
              "      <td>A\/5 21171<\/td>\n",
              "      <td>7.2500<\/td>\n",
              "      <td>NaN<\/td>\n",
              "      <td>S<\/td>\n",
              "    <\/tr>\n",
              "    <tr>\n",
              "      <th>1<\/th>\n",
              "      <td>2<\/td>\n",
              "      <td>1<\/td>\n",
              "      <td>1<\/td>\n",
              "      <td>female<\/td>\n",
              "      <td>38.0<\/td>\n",
              "      <td>1<\/td>\n",
              "      <td>0<\/td>\n",
              "      <td>PC 17599<\/td>\n",
              "      <td>71.2833<\/td>\n",
              "      <td>C85<\/td>\n",
              "      <td>C<\/td>\n",
              "    <\/tr>\n",
              "    <tr>\n",
              "      <th>2<\/th>\n",
              "      <td>3<\/td>\n",
              "      <td>1<\/td>\n",
              "      <td>3<\/td>\n",
              "      <td>female<\/td>\n",
              "      <td>26.0<\/td>\n",
              "      <td>0<\/td>\n",
              "      <td>0<\/td>\n",
              "      <td>STON\/O2. 3101282<\/td>\n",
              "      <td>7.9250<\/td>\n",
              "      <td>NaN<\/td>\n",
              "      <td>S<\/td>\n",
              "    <\/tr>\n",
              "    <tr>\n",
              "      <th>3<\/th>\n",
              "      <td>4<\/td>\n",
              "      <td>1<\/td>\n",
              "      <td>1<\/td>\n",
              "      <td>female<\/td>\n",
              "      <td>35.0<\/td>\n",
              "      <td>1<\/td>\n",
              "      <td>0<\/td>\n",
              "      <td>113803<\/td>\n",
              "      <td>53.1000<\/td>\n",
              "      <td>C123<\/td>\n",
              "      <td>S<\/td>\n",
              "    <\/tr>\n",
              "    <tr>\n",
              "      <th>4<\/th>\n",
              "      <td>5<\/td>\n",
              "      <td>0<\/td>\n",
              "      <td>3<\/td>\n",
              "      <td>male<\/td>\n",
              "      <td>35.0<\/td>\n",
              "      <td>0<\/td>\n",
              "      <td>0<\/td>\n",
              "      <td>373450<\/td>\n",
              "      <td>8.0500<\/td>\n",
              "      <td>NaN<\/td>\n",
              "      <td>S<\/td>\n",
              "    <\/tr>\n",
              "  <\/tbody>\n",
              "<\/table>\n",
              "<\/div>"
            ]
          },
          "metadata":{
            
          },
          "output_type":"display_data"
        }
      ],
      "metadata":{
        
      }
    },
    {
      "cell_type":"code",
      "source":[
        "print(df.head())"
      ],
      "execution_count":25,
      "outputs":[
        {
          "name":"stdout",
          "text":[
            "   PassengerId  Survived  Pclass     Sex   Age  SibSp  Parch  \\\n",
            "0            1         0       3    male  22.0      1      0   \n",
            "1            2         1       1  female  38.0      1      0   \n",
            "2            3         1       3  female  26.0      0      0   \n",
            "3            4         1       1  female  35.0      1      0   \n",
            "4            5         0       3    male  35.0      0      0   \n",
            "\n",
            "             Ticket     Fare Cabin Embarked  \n",
            "0         A\/5 21171   7.2500   NaN        S  \n",
            "1          PC 17599  71.2833   C85        C  \n",
            "2  STON\/O2. 3101282   7.9250   NaN        S  \n",
            "3            113803  53.1000  C123        S  \n",
            "4            373450   8.0500   NaN        S  \n"
          ],
          "output_type":"stream"
        }
      ],
      "metadata":{
        
      }
    },
    {
      "cell_type":"code",
      "source":[
        "data=pd.read_csv('digits.csv',nrows=5,header=None)\n",
        "data_array=np.array(data)\n",
        "data"
      ],
      "execution_count":26,
      "outputs":[
        {
          "data":{
            "text\/html":[
              "<div>\n",
              "<style scoped>\n",
              "    .dataframe tbody tr th:only-of-type {\n",
              "        vertical-align: middle;\n",
              "    }\n",
              "\n",
              "    .dataframe tbody tr th {\n",
              "        vertical-align: top;\n",
              "    }\n",
              "\n",
              "    .dataframe thead th {\n",
              "        text-align: right;\n",
              "    }\n",
              "<\/style>\n",
              "<table border=\"1\" class=\"dataframe\">\n",
              "  <thead>\n",
              "    <tr style=\"text-align: right;\">\n",
              "      <th><\/th>\n",
              "      <th>0<\/th>\n",
              "      <th>1<\/th>\n",
              "      <th>2<\/th>\n",
              "      <th>3<\/th>\n",
              "      <th>4<\/th>\n",
              "      <th>5<\/th>\n",
              "      <th>6<\/th>\n",
              "      <th>7<\/th>\n",
              "      <th>8<\/th>\n",
              "      <th>9<\/th>\n",
              "      <th>...<\/th>\n",
              "      <th>775<\/th>\n",
              "      <th>776<\/th>\n",
              "      <th>777<\/th>\n",
              "      <th>778<\/th>\n",
              "      <th>779<\/th>\n",
              "      <th>780<\/th>\n",
              "      <th>781<\/th>\n",
              "      <th>782<\/th>\n",
              "      <th>783<\/th>\n",
              "      <th>784<\/th>\n",
              "    <\/tr>\n",
              "  <\/thead>\n",
              "  <tbody>\n",
              "    <tr>\n",
              "      <th>0<\/th>\n",
              "      <td>1.0<\/td>\n",
              "      <td>0.0<\/td>\n",
              "      <td>0.0<\/td>\n",
              "      <td>0.0<\/td>\n",
              "      <td>0.0<\/td>\n",
              "      <td>0.0<\/td>\n",
              "      <td>0.0<\/td>\n",
              "      <td>0.0<\/td>\n",
              "      <td>0.0<\/td>\n",
              "      <td>0.0<\/td>\n",
              "      <td>...<\/td>\n",
              "      <td>0.0<\/td>\n",
              "      <td>0.0<\/td>\n",
              "      <td>0.0<\/td>\n",
              "      <td>0.0<\/td>\n",
              "      <td>0.0<\/td>\n",
              "      <td>0.0<\/td>\n",
              "      <td>0.0<\/td>\n",
              "      <td>0.0<\/td>\n",
              "      <td>0.0<\/td>\n",
              "      <td>0.0<\/td>\n",
              "    <\/tr>\n",
              "    <tr>\n",
              "      <th>1<\/th>\n",
              "      <td>0.0<\/td>\n",
              "      <td>0.0<\/td>\n",
              "      <td>0.0<\/td>\n",
              "      <td>0.0<\/td>\n",
              "      <td>0.0<\/td>\n",
              "      <td>0.0<\/td>\n",
              "      <td>0.0<\/td>\n",
              "      <td>0.0<\/td>\n",
              "      <td>0.0<\/td>\n",
              "      <td>0.0<\/td>\n",
              "      <td>...<\/td>\n",
              "      <td>0.0<\/td>\n",
              "      <td>0.0<\/td>\n",
              "      <td>0.0<\/td>\n",
              "      <td>0.0<\/td>\n",
              "      <td>0.0<\/td>\n",
              "      <td>0.0<\/td>\n",
              "      <td>0.0<\/td>\n",
              "      <td>0.0<\/td>\n",
              "      <td>0.0<\/td>\n",
              "      <td>0.0<\/td>\n",
              "    <\/tr>\n",
              "    <tr>\n",
              "      <th>2<\/th>\n",
              "      <td>1.0<\/td>\n",
              "      <td>0.0<\/td>\n",
              "      <td>0.0<\/td>\n",
              "      <td>0.0<\/td>\n",
              "      <td>0.0<\/td>\n",
              "      <td>0.0<\/td>\n",
              "      <td>0.0<\/td>\n",
              "      <td>0.0<\/td>\n",
              "      <td>0.0<\/td>\n",
              "      <td>0.0<\/td>\n",
              "      <td>...<\/td>\n",
              "      <td>0.0<\/td>\n",
              "      <td>0.0<\/td>\n",
              "      <td>0.0<\/td>\n",
              "      <td>0.0<\/td>\n",
              "      <td>0.0<\/td>\n",
              "      <td>0.0<\/td>\n",
              "      <td>0.0<\/td>\n",
              "      <td>0.0<\/td>\n",
              "      <td>0.0<\/td>\n",
              "      <td>0.0<\/td>\n",
              "    <\/tr>\n",
              "    <tr>\n",
              "      <th>3<\/th>\n",
              "      <td>4.0<\/td>\n",
              "      <td>0.0<\/td>\n",
              "      <td>0.0<\/td>\n",
              "      <td>0.0<\/td>\n",
              "      <td>0.0<\/td>\n",
              "      <td>0.0<\/td>\n",
              "      <td>0.0<\/td>\n",
              "      <td>0.0<\/td>\n",
              "      <td>0.0<\/td>\n",
              "      <td>0.0<\/td>\n",
              "      <td>...<\/td>\n",
              "      <td>0.0<\/td>\n",
              "      <td>0.0<\/td>\n",
              "      <td>0.0<\/td>\n",
              "      <td>0.0<\/td>\n",
              "      <td>0.0<\/td>\n",
              "      <td>0.0<\/td>\n",
              "      <td>0.0<\/td>\n",
              "      <td>0.0<\/td>\n",
              "      <td>0.0<\/td>\n",
              "      <td>0.0<\/td>\n",
              "    <\/tr>\n",
              "    <tr>\n",
              "      <th>4<\/th>\n",
              "      <td>0.0<\/td>\n",
              "      <td>0.0<\/td>\n",
              "      <td>0.0<\/td>\n",
              "      <td>0.0<\/td>\n",
              "      <td>0.0<\/td>\n",
              "      <td>0.0<\/td>\n",
              "      <td>0.0<\/td>\n",
              "      <td>0.0<\/td>\n",
              "      <td>0.0<\/td>\n",
              "      <td>0.0<\/td>\n",
              "      <td>...<\/td>\n",
              "      <td>0.0<\/td>\n",
              "      <td>0.0<\/td>\n",
              "      <td>0.0<\/td>\n",
              "      <td>0.0<\/td>\n",
              "      <td>0.0<\/td>\n",
              "      <td>0.0<\/td>\n",
              "      <td>0.0<\/td>\n",
              "      <td>0.0<\/td>\n",
              "      <td>0.0<\/td>\n",
              "      <td>0.0<\/td>\n",
              "    <\/tr>\n",
              "  <\/tbody>\n",
              "<\/table>\n",
              "<p>5 rows × 785 columns<\/p>\n",
              "<\/div>"
            ]
          },
          "metadata":{
            
          },
          "output_type":"display_data"
        }
      ],
      "metadata":{
        
      }
    },
    {
      "cell_type":"code",
      "source":[
        "print(data_array.shape)"
      ],
      "execution_count":27,
      "outputs":[
        {
          "name":"stdout",
          "text":[
            "(5, 785)\n"
          ],
          "output_type":"stream"
        }
      ],
      "metadata":{
        
      }
    },
    {
      "cell_type":"code",
      "source":[
        "print(data_array)"
      ],
      "execution_count":28,
      "outputs":[
        {
          "name":"stdout",
          "text":[
            "[[1. 0. 0. ... 0. 0. 0.]\n",
            " [0. 0. 0. ... 0. 0. 0.]\n",
            " [1. 0. 0. ... 0. 0. 0.]\n",
            " [4. 0. 0. ... 0. 0. 0.]\n",
            " [0. 0. 0. ... 0. 0. 0.]]\n"
          ],
          "output_type":"stream"
        }
      ],
      "metadata":{
        
      }
    },
    {
      "cell_type":"code",
      "source":[
        "file='titanic_corrupt.txt'\n",
        "df=pd.read_csv(file,sep='\\t',comment='#',na_values='Nothing')"
      ],
      "execution_count":29,
      "outputs":[
        
      ],
      "metadata":{
        
      }
    },
    {
      "cell_type":"code",
      "source":[
        "df.head()"
      ],
      "execution_count":30,
      "outputs":[
        {
          "data":{
            "text\/html":[
              "<div>\n",
              "<style scoped>\n",
              "    .dataframe tbody tr th:only-of-type {\n",
              "        vertical-align: middle;\n",
              "    }\n",
              "\n",
              "    .dataframe tbody tr th {\n",
              "        vertical-align: top;\n",
              "    }\n",
              "\n",
              "    .dataframe thead th {\n",
              "        text-align: right;\n",
              "    }\n",
              "<\/style>\n",
              "<table border=\"1\" class=\"dataframe\">\n",
              "  <thead>\n",
              "    <tr style=\"text-align: right;\">\n",
              "      <th><\/th>\n",
              "      <th>Survived<\/th>\n",
              "      <th>Pclass<\/th>\n",
              "      <th>Sex<\/th>\n",
              "      <th>Age<\/th>\n",
              "      <th>SibSp<\/th>\n",
              "      <th>Parch<\/th>\n",
              "      <th>Ticket<\/th>\n",
              "      <th>Fare<\/th>\n",
              "      <th>Cabin<\/th>\n",
              "      <th>Embarked<\/th>\n",
              "    <\/tr>\n",
              "  <\/thead>\n",
              "  <tbody>\n",
              "    <tr>\n",
              "      <th>1<\/th>\n",
              "      <td>0<\/td>\n",
              "      <td>3<\/td>\n",
              "      <td>male<\/td>\n",
              "      <td>22.0<\/td>\n",
              "      <td>1<\/td>\n",
              "      <td>0<\/td>\n",
              "      <td>A\/5 21171<\/td>\n",
              "      <td>7.250<\/td>\n",
              "      <td>NaN<\/td>\n",
              "      <td>S<\/td>\n",
              "    <\/tr>\n",
              "    <tr>\n",
              "      <th>2<\/th>\n",
              "      <td>1<\/td>\n",
              "      <td>1<\/td>\n",
              "      <td>female<\/td>\n",
              "      <td>38.0<\/td>\n",
              "      <td>1<\/td>\n",
              "      <td>0<\/td>\n",
              "      <td>PC 17599<\/td>\n",
              "      <td>NaN<\/td>\n",
              "      <td>NaN<\/td>\n",
              "      <td>NaN<\/td>\n",
              "    <\/tr>\n",
              "    <tr>\n",
              "      <th>3<\/th>\n",
              "      <td>1<\/td>\n",
              "      <td>3<\/td>\n",
              "      <td>female<\/td>\n",
              "      <td>26.0<\/td>\n",
              "      <td>0<\/td>\n",
              "      <td>0<\/td>\n",
              "      <td>STON\/O2. 3101282<\/td>\n",
              "      <td>7.925<\/td>\n",
              "      <td>NaN<\/td>\n",
              "      <td>S<\/td>\n",
              "    <\/tr>\n",
              "    <tr>\n",
              "      <th>4<\/th>\n",
              "      <td>1<\/td>\n",
              "      <td>1<\/td>\n",
              "      <td>female<\/td>\n",
              "      <td>35.0<\/td>\n",
              "      <td>1<\/td>\n",
              "      <td>0<\/td>\n",
              "      <td>113803<\/td>\n",
              "      <td>53.100<\/td>\n",
              "      <td>C123<\/td>\n",
              "      <td>S<\/td>\n",
              "    <\/tr>\n",
              "    <tr>\n",
              "      <th>5<\/th>\n",
              "      <td>0<\/td>\n",
              "      <td>3<\/td>\n",
              "      <td>male<\/td>\n",
              "      <td>35.0<\/td>\n",
              "      <td>0<\/td>\n",
              "      <td>0<\/td>\n",
              "      <td>373450<\/td>\n",
              "      <td>8.050<\/td>\n",
              "      <td>NaN<\/td>\n",
              "      <td>S<\/td>\n",
              "    <\/tr>\n",
              "  <\/tbody>\n",
              "<\/table>\n",
              "<\/div>"
            ]
          },
          "metadata":{
            
          },
          "output_type":"display_data"
        }
      ],
      "metadata":{
        
      }
    },
    {
      "cell_type":"code",
      "source":[
        "pd.DataFrame.hist(df[['Age']])\n",
        "plt.xlabel(\"Age(Years)\")\n",
        "plt.ylabel(\"Count\")\n",
        "plt.show()"
      ],
      "execution_count":31,
      "outputs":[
        {
          "data":{
            "image\/png":"[encoded data removed]"
          },
          "metadata":{
            "image\/png":{
              
            }
          },
          "output_type":"display_data"
        }
      ],
      "metadata":{
        
      }
    },
    {
      "cell_type":"code",
      "source":[
        "file_name='digit_header.txt'\n",
        "df=pd.read_csv(file_name,sep='\\t',na_values='Nothing')"
      ],
      "execution_count":50,
      "outputs":[
        
      ],
      "metadata":{
        
      }
    },
    {
      "cell_type":"code",
      "source":[
        "df"
      ],
      "execution_count":51,
      "outputs":[
        {
          "data":{
            "text\/html":[
              "<div>\n",
              "<style scoped>\n",
              "    .dataframe tbody tr th:only-of-type {\n",
              "        vertical-align: middle;\n",
              "    }\n",
              "\n",
              "    .dataframe tbody tr th {\n",
              "        vertical-align: top;\n",
              "    }\n",
              "\n",
              "    .dataframe thead th {\n",
              "        text-align: right;\n",
              "    }\n",
              "<\/style>\n",
              "<table border=\"1\" class=\"dataframe\">\n",
              "  <thead>\n",
              "    <tr style=\"text-align: right;\">\n",
              "      <th><\/th>\n",
              "      <th>label<\/th>\n",
              "      <th>pixel0<\/th>\n",
              "      <th>pixel1<\/th>\n",
              "      <th>pixel2<\/th>\n",
              "      <th>pixel3<\/th>\n",
              "      <th>pixel4<\/th>\n",
              "      <th>pixel5<\/th>\n",
              "      <th>pixel6<\/th>\n",
              "      <th>pixel7<\/th>\n",
              "      <th>pixel8<\/th>\n",
              "      <th>...<\/th>\n",
              "      <th>pixel774<\/th>\n",
              "      <th>pixel775<\/th>\n",
              "      <th>pixel776<\/th>\n",
              "      <th>pixel777<\/th>\n",
              "      <th>pixel778<\/th>\n",
              "      <th>pixel779<\/th>\n",
              "      <th>pixel780<\/th>\n",
              "      <th>pixel781<\/th>\n",
              "      <th>pixel782<\/th>\n",
              "      <th>pixel783<\/th>\n",
              "    <\/tr>\n",
              "  <\/thead>\n",
              "  <tbody>\n",
              "    <tr>\n",
              "      <th>0<\/th>\n",
              "      <td>1<\/td>\n",
              "      <td>0<\/td>\n",
              "      <td>0<\/td>\n",
              "      <td>0<\/td>\n",
              "      <td>0<\/td>\n",
              "      <td>0<\/td>\n",
              "      <td>0<\/td>\n",
              "      <td>0<\/td>\n",
              "      <td>0<\/td>\n",
              "      <td>0<\/td>\n",
              "      <td>...<\/td>\n",
              "      <td>0<\/td>\n",
              "      <td>0<\/td>\n",
              "      <td>0<\/td>\n",
              "      <td>0<\/td>\n",
              "      <td>0<\/td>\n",
              "      <td>0<\/td>\n",
              "      <td>0<\/td>\n",
              "      <td>0<\/td>\n",
              "      <td>0<\/td>\n",
              "      <td>0<\/td>\n",
              "    <\/tr>\n",
              "    <tr>\n",
              "      <th>1<\/th>\n",
              "      <td>0<\/td>\n",
              "      <td>0<\/td>\n",
              "      <td>0<\/td>\n",
              "      <td>0<\/td>\n",
              "      <td>0<\/td>\n",
              "      <td>0<\/td>\n",
              "      <td>0<\/td>\n",
              "      <td>0<\/td>\n",
              "      <td>0<\/td>\n",
              "      <td>0<\/td>\n",
              "      <td>...<\/td>\n",
              "      <td>0<\/td>\n",
              "      <td>0<\/td>\n",
              "      <td>0<\/td>\n",
              "      <td>0<\/td>\n",
              "      <td>0<\/td>\n",
              "      <td>0<\/td>\n",
              "      <td>0<\/td>\n",
              "      <td>0<\/td>\n",
              "      <td>0<\/td>\n",
              "      <td>0<\/td>\n",
              "    <\/tr>\n",
              "    <tr>\n",
              "      <th>2<\/th>\n",
              "      <td>1<\/td>\n",
              "      <td>0<\/td>\n",
              "      <td>0<\/td>\n",
              "      <td>0<\/td>\n",
              "      <td>0<\/td>\n",
              "      <td>0<\/td>\n",
              "      <td>0<\/td>\n",
              "      <td>0<\/td>\n",
              "      <td>0<\/td>\n",
              "      <td>0<\/td>\n",
              "      <td>...<\/td>\n",
              "      <td>0<\/td>\n",
              "      <td>0<\/td>\n",
              "      <td>0<\/td>\n",
              "      <td>0<\/td>\n",
              "      <td>0<\/td>\n",
              "      <td>0<\/td>\n",
              "      <td>0<\/td>\n",
              "      <td>0<\/td>\n",
              "      <td>0<\/td>\n",
              "      <td>0<\/td>\n",
              "    <\/tr>\n",
              "    <tr>\n",
              "      <th>3<\/th>\n",
              "      <td>4<\/td>\n",
              "      <td>0<\/td>\n",
              "      <td>0<\/td>\n",
              "      <td>0<\/td>\n",
              "      <td>0<\/td>\n",
              "      <td>0<\/td>\n",
              "      <td>0<\/td>\n",
              "      <td>0<\/td>\n",
              "      <td>0<\/td>\n",
              "      <td>0<\/td>\n",
              "      <td>...<\/td>\n",
              "      <td>0<\/td>\n",
              "      <td>0<\/td>\n",
              "      <td>0<\/td>\n",
              "      <td>0<\/td>\n",
              "      <td>0<\/td>\n",
              "      <td>0<\/td>\n",
              "      <td>0<\/td>\n",
              "      <td>0<\/td>\n",
              "      <td>0<\/td>\n",
              "      <td>0<\/td>\n",
              "    <\/tr>\n",
              "    <tr>\n",
              "      <th>4<\/th>\n",
              "      <td>0<\/td>\n",
              "      <td>0<\/td>\n",
              "      <td>0<\/td>\n",
              "      <td>0<\/td>\n",
              "      <td>0<\/td>\n",
              "      <td>0<\/td>\n",
              "      <td>0<\/td>\n",
              "      <td>0<\/td>\n",
              "      <td>0<\/td>\n",
              "      <td>0<\/td>\n",
              "      <td>...<\/td>\n",
              "      <td>0<\/td>\n",
              "      <td>0<\/td>\n",
              "      <td>0<\/td>\n",
              "      <td>0<\/td>\n",
              "      <td>0<\/td>\n",
              "      <td>0<\/td>\n",
              "      <td>0<\/td>\n",
              "      <td>0<\/td>\n",
              "      <td>0<\/td>\n",
              "      <td>0<\/td>\n",
              "    <\/tr>\n",
              "    <tr>\n",
              "      <th>...<\/th>\n",
              "      <td>...<\/td>\n",
              "      <td>...<\/td>\n",
              "      <td>...<\/td>\n",
              "      <td>...<\/td>\n",
              "      <td>...<\/td>\n",
              "      <td>...<\/td>\n",
              "      <td>...<\/td>\n",
              "      <td>...<\/td>\n",
              "      <td>...<\/td>\n",
              "      <td>...<\/td>\n",
              "      <td>...<\/td>\n",
              "      <td>...<\/td>\n",
              "      <td>...<\/td>\n",
              "      <td>...<\/td>\n",
              "      <td>...<\/td>\n",
              "      <td>...<\/td>\n",
              "      <td>...<\/td>\n",
              "      <td>...<\/td>\n",
              "      <td>...<\/td>\n",
              "      <td>...<\/td>\n",
              "      <td>...<\/td>\n",
              "    <\/tr>\n",
              "    <tr>\n",
              "      <th>95<\/th>\n",
              "      <td>9<\/td>\n",
              "      <td>0<\/td>\n",
              "      <td>0<\/td>\n",
              "      <td>0<\/td>\n",
              "      <td>0<\/td>\n",
              "      <td>0<\/td>\n",
              "      <td>0<\/td>\n",
              "      <td>0<\/td>\n",
              "      <td>0<\/td>\n",
              "      <td>0<\/td>\n",
              "      <td>...<\/td>\n",
              "      <td>0<\/td>\n",
              "      <td>0<\/td>\n",
              "      <td>0<\/td>\n",
              "      <td>0<\/td>\n",
              "      <td>0<\/td>\n",
              "      <td>0<\/td>\n",
              "      <td>0<\/td>\n",
              "      <td>0<\/td>\n",
              "      <td>0<\/td>\n",
              "      <td>0<\/td>\n",
              "    <\/tr>\n",
              "    <tr>\n",
              "      <th>96<\/th>\n",
              "      <td>1<\/td>\n",
              "      <td>0<\/td>\n",
              "      <td>0<\/td>\n",
              "      <td>0<\/td>\n",
              "      <td>0<\/td>\n",
              "      <td>0<\/td>\n",
              "      <td>0<\/td>\n",
              "      <td>0<\/td>\n",
              "      <td>0<\/td>\n",
              "      <td>0<\/td>\n",
              "      <td>...<\/td>\n",
              "      <td>0<\/td>\n",
              "      <td>0<\/td>\n",
              "      <td>0<\/td>\n",
              "      <td>0<\/td>\n",
              "      <td>0<\/td>\n",
              "      <td>0<\/td>\n",
              "      <td>0<\/td>\n",
              "      <td>0<\/td>\n",
              "      <td>0<\/td>\n",
              "      <td>0<\/td>\n",
              "    <\/tr>\n",
              "    <tr>\n",
              "      <th>97<\/th>\n",
              "      <td>2<\/td>\n",
              "      <td>0<\/td>\n",
              "      <td>0<\/td>\n",
              "      <td>0<\/td>\n",
              "      <td>0<\/td>\n",
              "      <td>0<\/td>\n",
              "      <td>0<\/td>\n",
              "      <td>0<\/td>\n",
              "      <td>0<\/td>\n",
              "      <td>0<\/td>\n",
              "      <td>...<\/td>\n",
              "      <td>0<\/td>\n",
              "      <td>0<\/td>\n",
              "      <td>0<\/td>\n",
              "      <td>0<\/td>\n",
              "      <td>0<\/td>\n",
              "      <td>0<\/td>\n",
              "      <td>0<\/td>\n",
              "      <td>0<\/td>\n",
              "      <td>0<\/td>\n",
              "      <td>0<\/td>\n",
              "    <\/tr>\n",
              "    <tr>\n",
              "      <th>98<\/th>\n",
              "      <td>0<\/td>\n",
              "      <td>0<\/td>\n",
              "      <td>0<\/td>\n",
              "      <td>0<\/td>\n",
              "      <td>0<\/td>\n",
              "      <td>0<\/td>\n",
              "      <td>0<\/td>\n",
              "      <td>0<\/td>\n",
              "      <td>0<\/td>\n",
              "      <td>0<\/td>\n",
              "      <td>...<\/td>\n",
              "      <td>0<\/td>\n",
              "      <td>0<\/td>\n",
              "      <td>0<\/td>\n",
              "      <td>0<\/td>\n",
              "      <td>0<\/td>\n",
              "      <td>0<\/td>\n",
              "      <td>0<\/td>\n",
              "      <td>0<\/td>\n",
              "      <td>0<\/td>\n",
              "      <td>0<\/td>\n",
              "    <\/tr>\n",
              "    <tr>\n",
              "      <th>99<\/th>\n",
              "      <td>5<\/td>\n",
              "      <td>0<\/td>\n",
              "      <td>0<\/td>\n",
              "      <td>0<\/td>\n",
              "      <td>0<\/td>\n",
              "      <td>0<\/td>\n",
              "      <td>0<\/td>\n",
              "      <td>0<\/td>\n",
              "      <td>0<\/td>\n",
              "      <td>0<\/td>\n",
              "      <td>...<\/td>\n",
              "      <td>0<\/td>\n",
              "      <td>0<\/td>\n",
              "      <td>0<\/td>\n",
              "      <td>0<\/td>\n",
              "      <td>0<\/td>\n",
              "      <td>0<\/td>\n",
              "      <td>0<\/td>\n",
              "      <td>0<\/td>\n",
              "      <td>0<\/td>\n",
              "      <td>0<\/td>\n",
              "    <\/tr>\n",
              "  <\/tbody>\n",
              "<\/table>\n",
              "<p>100 rows × 785 columns<\/p>\n",
              "<\/div>"
            ]
          },
          "metadata":{
            
          },
          "output_type":"display_data"
        }
      ],
      "metadata":{
        
      }
    },
    {
      "cell_type":"code",
      "source":[
        
      ],
      "execution_count":0,
      "outputs":[
        
      ],
      "metadata":{
        
      }
    }
  ],
  "metadata":{
    
  },
  "nbformat":4,
  "nbformat_minor":0
}